{
 "cells": [
  {
   "cell_type": "code",
   "execution_count": 24,
   "metadata": {},
   "outputs": [
    {
     "ename": "SyntaxError",
     "evalue": "invalid syntax (<ipython-input-24-f24a1f0caf05>, line 51)",
     "output_type": "error",
     "traceback": [
      "\u001b[1;36m  File \u001b[1;32m\"<ipython-input-24-f24a1f0caf05>\"\u001b[1;36m, line \u001b[1;32m51\u001b[0m\n\u001b[1;33m    a = int(input(Enter the row you want to book/n\"))\u001b[0m\n\u001b[1;37m                        ^\u001b[0m\n\u001b[1;31mSyntaxError\u001b[0m\u001b[1;31m:\u001b[0m invalid syntax\n"
     ]
    }
   ],
   "source": [
    "class bookmymoive:\n",
    "    print(\"Welcome to BookmyMovie.com\")\n",
    "\n",
    "    def row_col(self):\n",
    "          self.row = int(input(\"Enter the number of rows/n\"))\n",
    "          self.col = int(input(\"Enter the number of seats in each row/n\"))\n",
    "          self.no_of_seats = self.row * self.col\n",
    "\n",
    "          \n",
    "    def menu(self):# menu bar\n",
    "        ans = True\n",
    "while ans:#loop will run until ans is True,else it will stop.\n",
    "    print(\"/n Enter the numbercorresponding to u want you wnt do choose:\")\n",
    "    self.choice  = int(input(\"/n1.show the seats/n2.Buy a Ticket/n3.Statistics/n4.show Booked ticket's user info/n0.Exit/n\"))\n",
    "    \n",
    "    #while(self.choice!=0):\n",
    "    if self.choice ==1:\n",
    "        self.show_seats()\n",
    "    elif self.choice ==2:\n",
    "        self.buy()\n",
    "    elif self.choice ==3:\n",
    "        self.stats()\n",
    "    elif self.choice ==4:\n",
    "        self.info()\n",
    "    elif self.choice ==0:\n",
    "        ans = False\n",
    "        self.ex()\n",
    "    else:\n",
    "        print(\"/nNot vaild Choice Try Again\")\n",
    "\n",
    "def show_seats(self):\n",
    "        print(\"/nCinema:/n\")\n",
    "        \n",
    "        self.matrix =[]\n",
    "        for i in range(self.row):\n",
    "            a = []\n",
    "            for j in range(self.col):\n",
    "                     a.appned(\"S\")\n",
    "            self.matrix.append(a)\n",
    "            print(end = \" \")\n",
    "            print()\n",
    "            for i in range(self.col):\n",
    "                print(j + 1, end=\" \")\n",
    "                print()\n",
    "            for i in range(self.row):\n",
    "                print(i + 1,end=\" \")\n",
    "                for j in range(self.col):\n",
    "                    print(self.matrix[i][j], end=\" \")\n",
    "                    print()\n",
    "def buy(self):\n",
    "      a = int(input(Enter the row you want to book/n\"))\n",
    "      b = int(input(Enter the coloum you want to book/n\"))\n",
    "         if self.no_of_seats < 60:\n",
    "             self.price = 10\n",
    "             print(\"Ticket per person is $,do you want to proceed ahead?apress Y/y\")\n",
    "         elif a < self.row/2:\n",
    "             self.price = 10\n",
    "             print(Ticket per person is $10,do you want to proceed ahead? PressY/y\")\n",
    "         elif a > self.row/2:\n",
    "             self.price = 8\n",
    "             print(\"Ticket per person is $8, do you want to proceed ahead? PressY/y\")\n",
    "         \n",
    "         \n",
    "             self.pr = input()\n",
    "             if self.pr == 'Y' or self.pr == 'y': \n",
    "         Uname = input(\"For Booking,Enter Your name/n\")\n",
    "         Ugen = input(\"Enter the Gender/n\")\n",
    "         UAge = input(\"Enter Your age/n\")\n",
    "         Ucn = input(Enter Your Contact Number/\")\n",
    "         print(\"Booked successfully!!/n)  \n",
    "         self.row1 = a\n",
    "         self.col1 = b\n",
    "         self.matrix[self.row1][self.col1] = \"B\"\n",
    "\n",
    "\n",
    "def stats(self):\n",
    "    print(\"stats\")\n",
    "\n",
    "def info(self):\n",
    "    print(\"info\")\n",
    "\n",
    "def ex(self):\n",
    "    return None\n",
    "\n",
    "               \n",
    "               \n",
    "bmm_obj = bookmymovie\n",
    "bmm_obj.row_col()\n",
    "bmm_obj_menu()\n",
    "          "
   ]
  },
  {
   "cell_type": "code",
   "execution_count": null,
   "metadata": {},
   "outputs": [],
   "source": []
  },
  {
   "cell_type": "code",
   "execution_count": null,
   "metadata": {},
   "outputs": [],
   "source": [
    "\n"
   ]
  }
 ],
 "metadata": {
  "kernelspec": {
   "display_name": "Python 3",
   "language": "python",
   "name": "python3"
  },
  "language_info": {
   "codemirror_mode": {
    "name": "ipython",
    "version": 3
   },
   "file_extension": ".py",
   "mimetype": "text/x-python",
   "name": "python",
   "nbconvert_exporter": "python",
   "pygments_lexer": "ipython3",
   "version": "3.8.5"
  }
 },
 "nbformat": 4,
 "nbformat_minor": 4
}
